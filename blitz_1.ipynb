{
 "metadata": {
  "name": "",
  "signature": "sha256:a359cf86008b3eb64a6527f66b56797bdc575fb4a31f771ffdebfc28ce4029be"
 },
 "nbformat": 3,
 "nbformat_minor": 0,
 "worksheets": [
  {
   "cells": [
    {
     "cell_type": "code",
     "collapsed": false,
     "input": [
      "import numpy as np\n",
      "import pandas as pd"
     ],
     "language": "python",
     "metadata": {},
     "outputs": [],
     "prompt_number": 1
    },
    {
     "cell_type": "code",
     "collapsed": false,
     "input": [
      "struct = pd.read_csv('course-217-structure.csv')\n",
      "events = pd.read_csv('course-217-events.csv')"
     ],
     "language": "python",
     "metadata": {},
     "outputs": [],
     "prompt_number": 2
    },
    {
     "cell_type": "code",
     "collapsed": false,
     "input": [
      "struct = struct.set_index('step_id')\n",
      "events['step_cost'] = np.where(events.action == 'passed', \n",
      "                               struct.loc[events.step_id].step_cost.values, 0)\n",
      "struct = struct.reset_index()"
     ],
     "language": "python",
     "metadata": {},
     "outputs": [],
     "prompt_number": 3
    },
    {
     "cell_type": "code",
     "collapsed": false,
     "input": [
      "def course_finish_time(x):\n",
      "    x = x.sort_values('time')\n",
      "    x.time -= x.time.iloc[0]\n",
      "    x.step_cost = x.step_cost.cumsum()\n",
      "    min_time = x[x.step_cost >= 24].time.min()\n",
      "    return pd.Series( {'time':min_time if not np.isnan(min_time) else 2000000000} )"
     ],
     "language": "python",
     "metadata": {},
     "outputs": [],
     "prompt_number": 4
    },
    {
     "cell_type": "code",
     "collapsed": false,
     "input": [
      "events.groupby('user_id').apply(course_finish_time).reset_index().sort_values('time').head(10)"
     ],
     "language": "python",
     "metadata": {},
     "outputs": [
      {
       "html": [
        "<div style=\"max-width:1500px;overflow:auto;\">\n",
        "<table border=\"1\" class=\"dataframe\">\n",
        "  <thead>\n",
        "    <tr style=\"text-align: right;\">\n",
        "      <th></th>\n",
        "      <th>user_id</th>\n",
        "      <th>time</th>\n",
        "    </tr>\n",
        "  </thead>\n",
        "  <tbody>\n",
        "    <tr>\n",
        "      <th>4312</th>\n",
        "      <td>4313</td>\n",
        "      <td>41390</td>\n",
        "    </tr>\n",
        "    <tr>\n",
        "      <th>1263</th>\n",
        "      <td>1264</td>\n",
        "      <td>207886</td>\n",
        "    </tr>\n",
        "    <tr>\n",
        "      <th>820</th>\n",
        "      <td>821</td>\n",
        "      <td>348179</td>\n",
        "    </tr>\n",
        "    <tr>\n",
        "      <th>1145</th>\n",
        "      <td>1146</td>\n",
        "      <td>549445</td>\n",
        "    </tr>\n",
        "    <tr>\n",
        "      <th>1123</th>\n",
        "      <td>1124</td>\n",
        "      <td>575883</td>\n",
        "    </tr>\n",
        "    <tr>\n",
        "      <th>2621</th>\n",
        "      <td>2622</td>\n",
        "      <td>847958</td>\n",
        "    </tr>\n",
        "    <tr>\n",
        "      <th>712</th>\n",
        "      <td>713</td>\n",
        "      <td>868600</td>\n",
        "    </tr>\n",
        "    <tr>\n",
        "      <th>971</th>\n",
        "      <td>972</td>\n",
        "      <td>1079659</td>\n",
        "    </tr>\n",
        "    <tr>\n",
        "      <th>4279</th>\n",
        "      <td>4280</td>\n",
        "      <td>1081656</td>\n",
        "    </tr>\n",
        "    <tr>\n",
        "      <th>1290</th>\n",
        "      <td>1291</td>\n",
        "      <td>1181486</td>\n",
        "    </tr>\n",
        "  </tbody>\n",
        "</table>\n",
        "</div>"
       ],
       "metadata": {},
       "output_type": "pyout",
       "prompt_number": 5,
       "text": [
        "      user_id     time\n",
        "4312     4313    41390\n",
        "1263     1264   207886\n",
        "820       821   348179\n",
        "1145     1146   549445\n",
        "1123     1124   575883\n",
        "2621     2622   847958\n",
        "712       713   868600\n",
        "971       972  1079659\n",
        "4279     4280  1081656\n",
        "1290     1291  1181486"
       ]
      }
     ],
     "prompt_number": 5
    }
   ],
   "metadata": {}
  }
 ]
}